{
  "cells": [
    {
      "cell_type": "markdown",
      "metadata": {
        "id": "GD9gUQpaBxNa"
      },
      "source": [
        "# How to Train YOLOv7 on a Custom Dataset\n",
        "\n",
        "This tutorial is based on the [YOLOv7 repository](https://github.com/WongKinYiu/yolov7) by WongKinYiu. This notebook shows training on **your own custom objects**. Many thanks to WongKinYiu and AlexeyAB for putting this repository together.\n",
        "\n",
        "### **Steps Covered in this Tutorial**\n",
        "To train our detector we take the following steps:\n",
        "* Install YOLOv7 dependencies\n",
        "* Load Trained model\n",
        "* To detect Real video"
      ]
    },
    {
      "cell_type": "markdown",
      "metadata": {
        "id": "mtJ24mPlyF-S"
      },
      "source": [
        "## Step 1 - YOLO Library install\n"
      ]
    },
    {
      "cell_type": "markdown",
      "metadata": {
        "id": "7mGmQbAO5pQb"
      },
      "source": [
        "# Step 1 - Install Dependencies Library of Yolov7 \n",
        "\n",
        "_(Remember to choose GPU in Runtime if not already selected. Runtime --> Change Runtime Type --> Hardware accelerator --> GPU)_\n"
      ]
    },
    {
      "cell_type": "code",
      "execution_count": null,
      "metadata": {
        "id": "nD-uPyQ_2jiN",
        "colab": {
          "base_uri": "https://localhost:8080/"
        },
        "outputId": "27597879-4e82-4f3f-91c2-290eeb39c6df"
      },
      "outputs": [
        {
          "output_type": "stream",
          "name": "stdout",
          "text": [
            "Setup completed\n"
          ]
        }
      ],
      "source": [
        "\n",
        "# Download YOLOv7 repository and install requirements\n",
        "!git clone https://github.com/WongKinYiu/yolov7\n",
        "%cd yolov7\n",
        "!pip install -r requirements.txt\n",
        "#!pip install wandb\n",
        "!pip install torchvision==0.11.3+cu111 -f https://download.pytorch.org/whl/cu111/torch_stable.html\n",
        "import torch\n",
        "from IPython.display import Image, clear_output  # to display images\n",
        "#from utils.google_utils import gdrive_download  # to download models/datasets\n",
        "!wget https://github.com/WongKinYiu/yolov7/releases/download/v0.1/yolov7_training.pt \n",
        "clear_output()\n",
        "print('Setup completed')"
      ]
    },
    {
      "cell_type": "markdown",
      "metadata": {
        "id": "0W0MpUaTCJro"
      },
      "source": [
        "\n",
        "# Step 2 Real time Evaluation\n",
        "We can evaluate the performance of our custom training using the provided evalution script."
      ]
    },
    {
      "cell_type": "code",
      "execution_count": null,
      "metadata": {
        "id": "N4cfnLtTCIce",
        "colab": {
          "base_uri": "https://localhost:8080/"
        },
        "outputId": "ac8c5bcf-c267-4597-c08a-487209b2beb9"
      },
      "outputs": [
        {
          "output_type": "stream",
          "name": "stdout",
          "text": [
            "/content/yolov7\n",
            "Namespace(agnostic_nms=False, augment=False, classes=None, conf_thres=0.1, device='', exist_ok=False, img_size=640, iou_thres=0.45, name='exp', no_trace=False, nosave=False, project='runs/detect', save_conf=False, save_txt=False, source='/content/RSDD2022/Uniqueframes', update=False, view_img=False, weights=['/content/yolov7/runs/exp/OrigionImage_trained_Model.pt'])\n",
            "YOLOR 🚀 v0.1-121-g2fdc7f1 torch 1.10.2+cu111 CUDA:0 (Tesla T4, 15109.875MB)\n",
            "\n",
            "Fusing layers... \n",
            "RepConv.fuse_repvgg_block\n",
            "RepConv.fuse_repvgg_block\n",
            "RepConv.fuse_repvgg_block\n",
            "IDetect.fuse\n",
            "/usr/local/lib/python3.8/dist-packages/torch/functional.py:445: UserWarning: torch.meshgrid: in an upcoming release, it will be required to pass the indexing argument. (Triggered internally at  ../aten/src/ATen/native/TensorShape.cpp:2157.)\n",
            "  return _VF.meshgrid(tensors, **kwargs)  # type: ignore[attr-defined]\n",
            "Model Summary: 314 layers, 36497954 parameters, 6194944 gradients, 103.2 GFLOPS\n",
            " Convert model to Traced-model... \n",
            " traced_script_module saved! \n",
            " model is traced! \n",
            "\n",
            "1 D10, Done. (19.1ms) Inference, (1.5ms) NMS\n",
            " The image with the result is saved in: runs/detect/exp24/frame_00001.jpg\n",
            "1 D40, Done. (19.1ms) Inference, (0.9ms) NMS\n",
            " The image with the result is saved in: runs/detect/exp24/frame_00002.jpg\n",
            "2 D10s, Done. (19.1ms) Inference, (0.9ms) NMS\n",
            " The image with the result is saved in: runs/detect/exp24/frame_00003.jpg\n",
            "1 D10, Done. (19.1ms) Inference, (0.9ms) NMS\n",
            " The image with the result is saved in: runs/detect/exp24/frame_00004.jpg\n",
            "Done. (17.7ms) Inference, (0.2ms) NMS\n",
            " The image with the result is saved in: runs/detect/exp24/frame_00005.jpg\n",
            "1 D10, 1 D40, Done. (17.3ms) Inference, (0.9ms) NMS\n",
            " The image with the result is saved in: runs/detect/exp24/frame_00006.jpg\n",
            "Done. (17.2ms) Inference, (0.2ms) NMS\n",
            " The image with the result is saved in: runs/detect/exp24/frame_00007.jpg\n",
            "1 D10, 1 D40, Done. (17.3ms) Inference, (0.9ms) NMS\n",
            " The image with the result is saved in: runs/detect/exp24/frame_00008.jpg\n",
            "Done. (17.3ms) Inference, (0.6ms) NMS\n",
            " The image with the result is saved in: runs/detect/exp24/frame_00009.jpg\n",
            "1 D40, Done. (16.4ms) Inference, (0.9ms) NMS\n",
            " The image with the result is saved in: runs/detect/exp24/frame_00010.jpg\n",
            "2 D40s, Done. (16.5ms) Inference, (1.0ms) NMS\n",
            " The image with the result is saved in: runs/detect/exp24/frame_00011.jpg\n",
            "1 D40, Done. (16.4ms) Inference, (0.9ms) NMS\n",
            " The image with the result is saved in: runs/detect/exp24/frame_00012.jpg\n",
            "1 D10, Done. (16.4ms) Inference, (0.9ms) NMS\n",
            " The image with the result is saved in: runs/detect/exp24/frame_00013.jpg\n",
            "Done. (16.4ms) Inference, (0.2ms) NMS\n",
            " The image with the result is saved in: runs/detect/exp24/frame_00014.jpg\n",
            "Done. (16.4ms) Inference, (0.2ms) NMS\n",
            " The image with the result is saved in: runs/detect/exp24/frame_00015.jpg\n",
            "Done. (16.4ms) Inference, (0.7ms) NMS\n",
            " The image with the result is saved in: runs/detect/exp24/frame_00016.jpg\n",
            "1 D10, 1 D40, Done. (16.4ms) Inference, (0.9ms) NMS\n",
            " The image with the result is saved in: runs/detect/exp24/frame_00017.jpg\n",
            "Done. (16.5ms) Inference, (0.2ms) NMS\n",
            " The image with the result is saved in: runs/detect/exp24/frame_00018.jpg\n",
            "Done. (16.4ms) Inference, (0.2ms) NMS\n",
            " The image with the result is saved in: runs/detect/exp24/frame_00019.jpg\n",
            "1 D40, Done. (16.4ms) Inference, (1.0ms) NMS\n",
            " The image with the result is saved in: runs/detect/exp24/frame_00020.jpg\n",
            "Done. (16.4ms) Inference, (0.2ms) NMS\n",
            " The image with the result is saved in: runs/detect/exp24/frame_00021.jpg\n",
            "Done. (16.4ms) Inference, (0.2ms) NMS\n",
            " The image with the result is saved in: runs/detect/exp24/frame_00022.jpg\n",
            "1 D10, Done. (16.4ms) Inference, (1.0ms) NMS\n",
            " The image with the result is saved in: runs/detect/exp24/frame_00023.jpg\n",
            "1 D10, Done. (16.4ms) Inference, (0.9ms) NMS\n",
            " The image with the result is saved in: runs/detect/exp24/frame_00024.jpg\n",
            "Done. (16.4ms) Inference, (0.3ms) NMS\n",
            " The image with the result is saved in: runs/detect/exp24/frame_00025.jpg\n",
            "Done. (16.4ms) Inference, (0.2ms) NMS\n",
            " The image with the result is saved in: runs/detect/exp24/frame_00026.jpg\n",
            "Done. (16.4ms) Inference, (0.2ms) NMS\n",
            " The image with the result is saved in: runs/detect/exp24/frame_00027.jpg\n",
            "Done. (16.4ms) Inference, (0.2ms) NMS\n",
            " The image with the result is saved in: runs/detect/exp24/frame_00028.jpg\n",
            "Done. (16.4ms) Inference, (0.3ms) NMS\n",
            " The image with the result is saved in: runs/detect/exp24/frame_00029.jpg\n",
            "Done. (16.4ms) Inference, (0.7ms) NMS\n",
            " The image with the result is saved in: runs/detect/exp24/frame_00030.jpg\n",
            "1 D10, 1 D40, Done. (16.5ms) Inference, (1.0ms) NMS\n",
            " The image with the result is saved in: runs/detect/exp24/frame_00031.jpg\n",
            "1 D10, 1 D40, Done. (16.4ms) Inference, (1.0ms) NMS\n",
            " The image with the result is saved in: runs/detect/exp24/frame_00032.jpg\n",
            "Done. (16.4ms) Inference, (0.2ms) NMS\n",
            " The image with the result is saved in: runs/detect/exp24/frame_00033.jpg\n",
            "Done. (16.4ms) Inference, (0.2ms) NMS\n",
            " The image with the result is saved in: runs/detect/exp24/frame_00034.jpg\n",
            "1 D10, Done. (16.4ms) Inference, (1.5ms) NMS\n",
            " The image with the result is saved in: runs/detect/exp24/frame_00035.jpg\n",
            "2 D10s, Done. (16.4ms) Inference, (0.9ms) NMS\n",
            " The image with the result is saved in: runs/detect/exp24/frame_00036.jpg\n",
            "Done. (16.4ms) Inference, (0.2ms) NMS\n",
            " The image with the result is saved in: runs/detect/exp24/frame_00037.jpg\n",
            "1 D10, Done. (16.5ms) Inference, (1.0ms) NMS\n",
            " The image with the result is saved in: runs/detect/exp24/frame_00038.jpg\n",
            "Done. (16.4ms) Inference, (0.2ms) NMS\n",
            " The image with the result is saved in: runs/detect/exp24/frame_00039.jpg\n",
            "Done. (16.4ms) Inference, (0.7ms) NMS\n",
            " The image with the result is saved in: runs/detect/exp24/frame_00040.jpg\n",
            "Done. (16.4ms) Inference, (0.2ms) NMS\n",
            " The image with the result is saved in: runs/detect/exp24/frame_00042.jpg\n",
            "Done. (16.4ms) Inference, (0.3ms) NMS\n",
            " The image with the result is saved in: runs/detect/exp24/frame_00043.jpg\n",
            "Done. (16.4ms) Inference, (0.2ms) NMS\n",
            " The image with the result is saved in: runs/detect/exp24/frame_00044.jpg\n",
            "Done. (16.4ms) Inference, (0.2ms) NMS\n",
            " The image with the result is saved in: runs/detect/exp24/frame_00045.jpg\n",
            "1 D00, Done. (16.4ms) Inference, (1.2ms) NMS\n",
            " The image with the result is saved in: runs/detect/exp24/frame_00046.jpg\n",
            "Done. (16.4ms) Inference, (0.2ms) NMS\n",
            " The image with the result is saved in: runs/detect/exp24/frame_00047.jpg\n",
            "1 D40, Done. (16.4ms) Inference, (1.0ms) NMS\n",
            " The image with the result is saved in: runs/detect/exp24/frame_00048.jpg\n",
            "Done. (16.4ms) Inference, (0.2ms) NMS\n",
            " The image with the result is saved in: runs/detect/exp24/frame_00049.jpg\n",
            "Done. (16.4ms) Inference, (0.2ms) NMS\n",
            " The image with the result is saved in: runs/detect/exp24/frame_00050.jpg\n",
            "1 D10, Done. (16.7ms) Inference, (1.0ms) NMS\n",
            " The image with the result is saved in: runs/detect/exp24/frame_00051.jpg\n",
            "1 D10, 1 D40, Done. (16.7ms) Inference, (1.0ms) NMS\n",
            " The image with the result is saved in: runs/detect/exp24/frame_00052.jpg\n",
            "Done. (16.7ms) Inference, (0.7ms) NMS\n",
            " The image with the result is saved in: runs/detect/exp24/frame_00053.jpg\n",
            "Done. (16.7ms) Inference, (0.6ms) NMS\n",
            " The image with the result is saved in: runs/detect/exp24/frame_00054.jpg\n",
            "Done. (16.7ms) Inference, (0.6ms) NMS\n",
            " The image with the result is saved in: runs/detect/exp24/frame_00055.jpg\n",
            "1 D10, Done. (15.9ms) Inference, (0.9ms) NMS\n",
            " The image with the result is saved in: runs/detect/exp24/frame_00056.jpg\n",
            "Done. (15.9ms) Inference, (0.2ms) NMS\n",
            " The image with the result is saved in: runs/detect/exp24/frame_00057.jpg\n",
            "1 D10, Done. (15.9ms) Inference, (1.0ms) NMS\n",
            " The image with the result is saved in: runs/detect/exp24/frame_00060.jpg\n",
            "Done. (15.9ms) Inference, (0.3ms) NMS\n",
            " The image with the result is saved in: runs/detect/exp24/frame_00061.jpg\n",
            "Done. (15.9ms) Inference, (0.2ms) NMS\n",
            " The image with the result is saved in: runs/detect/exp24/frame_00063.jpg\n",
            "Done. (15.9ms) Inference, (0.2ms) NMS\n",
            " The image with the result is saved in: runs/detect/exp24/frame_00064.jpg\n",
            "Done. (15.9ms) Inference, (0.3ms) NMS\n",
            " The image with the result is saved in: runs/detect/exp24/frame_00065.jpg\n",
            "Done. (15.9ms) Inference, (0.2ms) NMS\n",
            " The image with the result is saved in: runs/detect/exp24/frame_00066.jpg\n",
            "Done. (15.9ms) Inference, (0.2ms) NMS\n",
            " The image with the result is saved in: runs/detect/exp24/frame_00067.jpg\n",
            "Done. (15.9ms) Inference, (0.7ms) NMS\n",
            " The image with the result is saved in: runs/detect/exp24/frame_00068.jpg\n",
            "Done. (15.9ms) Inference, (0.3ms) NMS\n",
            " The image with the result is saved in: runs/detect/exp24/frame_00070.jpg\n",
            "Done. (15.9ms) Inference, (0.2ms) NMS\n",
            " The image with the result is saved in: runs/detect/exp24/frame_00071.jpg\n",
            "Done. (15.9ms) Inference, (0.2ms) NMS\n",
            " The image with the result is saved in: runs/detect/exp24/frame_00072.jpg\n",
            "Done. (15.8ms) Inference, (0.2ms) NMS\n",
            " The image with the result is saved in: runs/detect/exp24/frame_00073.jpg\n",
            "1 D10, Done. (15.9ms) Inference, (0.9ms) NMS\n",
            " The image with the result is saved in: runs/detect/exp24/frame_00074.jpg\n",
            "Done. (15.9ms) Inference, (0.2ms) NMS\n",
            " The image with the result is saved in: runs/detect/exp24/frame_00075.jpg\n",
            "Done. (15.8ms) Inference, (0.2ms) NMS\n",
            " The image with the result is saved in: runs/detect/exp24/frame_00077.jpg\n",
            "Done. (15.9ms) Inference, (0.2ms) NMS\n",
            " The image with the result is saved in: runs/detect/exp24/frame_00078.jpg\n",
            "Done. (15.9ms) Inference, (0.2ms) NMS\n",
            " The image with the result is saved in: runs/detect/exp24/frame_00079.jpg\n",
            "Done. (15.9ms) Inference, (0.2ms) NMS\n",
            " The image with the result is saved in: runs/detect/exp24/frame_00080.jpg\n",
            "1 D40, Done. (15.8ms) Inference, (1.0ms) NMS\n",
            " The image with the result is saved in: runs/detect/exp24/frame_00081.jpg\n",
            "1 D10, 1 D40, Done. (15.9ms) Inference, (0.9ms) NMS\n",
            " The image with the result is saved in: runs/detect/exp24/frame_00082.jpg\n",
            "1 D10, Done. (15.9ms) Inference, (0.9ms) NMS\n",
            " The image with the result is saved in: runs/detect/exp24/frame_00083.jpg\n",
            "1 D10, Done. (15.9ms) Inference, (0.9ms) NMS\n",
            " The image with the result is saved in: runs/detect/exp24/frame_00084.jpg\n",
            "1 D10, 1 D40, Done. (15.9ms) Inference, (0.8ms) NMS\n",
            " The image with the result is saved in: runs/detect/exp24/frame_00085.jpg\n",
            "1 D10, 2 D40s, Done. (15.8ms) Inference, (0.8ms) NMS\n",
            " The image with the result is saved in: runs/detect/exp24/frame_00086.jpg\n",
            "1 D10, 1 D40, Done. (15.9ms) Inference, (0.8ms) NMS\n",
            " The image with the result is saved in: runs/detect/exp24/frame_00087.jpg\n",
            "2 D10s, Done. (15.8ms) Inference, (0.9ms) NMS\n",
            " The image with the result is saved in: runs/detect/exp24/frame_00088.jpg\n",
            "1 D10, 1 D40, Done. (15.9ms) Inference, (0.8ms) NMS\n",
            " The image with the result is saved in: runs/detect/exp24/frame_00089.jpg\n",
            "1 D10, 3 D40s, Done. (15.9ms) Inference, (0.8ms) NMS\n",
            " The image with the result is saved in: runs/detect/exp24/frame_00090.jpg\n",
            "1 D10, Done. (15.9ms) Inference, (1.0ms) NMS\n",
            " The image with the result is saved in: runs/detect/exp24/frame_00091.jpg\n",
            "1 D40, Done. (15.9ms) Inference, (0.9ms) NMS\n",
            " The image with the result is saved in: runs/detect/exp24/frame_00092.jpg\n",
            "1 D40, Done. (15.8ms) Inference, (0.9ms) NMS\n",
            " The image with the result is saved in: runs/detect/exp24/frame_00093.jpg\n",
            "1 D10, Done. (15.8ms) Inference, (1.0ms) NMS\n",
            " The image with the result is saved in: runs/detect/exp24/frame_00094.jpg\n",
            "Done. (15.9ms) Inference, (0.2ms) NMS\n",
            " The image with the result is saved in: runs/detect/exp24/frame_00095.jpg\n",
            "2 D40s, Done. (15.9ms) Inference, (0.9ms) NMS\n",
            " The image with the result is saved in: runs/detect/exp24/frame_00096.jpg\n",
            "Done. (15.9ms) Inference, (0.2ms) NMS\n",
            " The image with the result is saved in: runs/detect/exp24/frame_00097.jpg\n",
            "Done. (15.9ms) Inference, (0.2ms) NMS\n",
            " The image with the result is saved in: runs/detect/exp24/frame_00098.jpg\n",
            "Done. (15.9ms) Inference, (0.6ms) NMS\n",
            " The image with the result is saved in: runs/detect/exp24/frame_00099.jpg\n",
            "Done. (15.9ms) Inference, (0.2ms) NMS\n",
            " The image with the result is saved in: runs/detect/exp24/frame_00100.jpg\n",
            "Done. (15.9ms) Inference, (0.6ms) NMS\n",
            " The image with the result is saved in: runs/detect/exp24/frame_00101.jpg\n",
            "1 D10, 1 D40, Done. (18.5ms) Inference, (1.0ms) NMS\n",
            " The image with the result is saved in: runs/detect/exp24/frame_00102.jpg\n",
            "1 D40, Done. (16.7ms) Inference, (0.9ms) NMS\n",
            " The image with the result is saved in: runs/detect/exp24/frame_00103.jpg\n",
            "Done. (16.7ms) Inference, (0.2ms) NMS\n",
            " The image with the result is saved in: runs/detect/exp24/frame_00104.jpg\n",
            "1 D10, 2 D40s, Done. (16.7ms) Inference, (0.9ms) NMS\n",
            " The image with the result is saved in: runs/detect/exp24/frame_00105.jpg\n",
            "Done. (16.7ms) Inference, (0.2ms) NMS\n",
            " The image with the result is saved in: runs/detect/exp24/frame_00106.jpg\n",
            "Done. (4.537s)\n"
          ]
        }
      ],
      "source": [
        "# Run evaluation\n",
        "%cd /content/yolov7\n",
        "\n",
        "#!python detect.py --weights /content/yolov7/runs/exp/ImageAugmentRSDD2023_trained_model.pt --conf 0.1 --source /content/RSDD2022/Uniqueframes\n",
        "\n",
        "# --Exp2\n",
        "!python detect.py --weights /content/yolov7/runs/exp/OrigionImage_trained_Model.pt  --conf 0.1 --source /content/RSDD2022/Uniqueframes\n",
        "\n",
        "#-- Exp3\n",
        "#!python detect.py --weights /content/yolov7/runs/Normalyolov7_model.pt --conf 0.1 --source /content/RSDD2022/Uniqueframes7"
      ]
    },
    {
      "cell_type": "code",
      "source": [
        "''' Training model download from GDrive'''\n",
        "\n",
        "from google.colab import drive\n",
        "%cd /content/yolov7\n",
        "# !mkdir /content/yolov7/runs\n",
        "# !mkdir /content/yolov7/runs/exp\n",
        "drive.mount('/content/drive')\n",
        "!cp -av \"/content/drive/MyDrive/DEVRDD/GRSDD2022/data.yaml\" -d \"/content/yolov7/\"\n",
        "#!unzip -u \"/content/drive/MyDrive/DEVRDD/GRSDD2022/Datasources/AdditionalSource.zip\" -d \"/content/RSDD2022/dataset/\"\n",
        "#!unzip -u \"/content/drive/MyDrive/DEVRDD/TNRSDD2023.zip\" -d \"/content/yolov7/dataset/Data\"\n",
        "!unzip -u \"/content/drive/MyDrive/DEVRDD/TNRSDD2023/TNRSDD2023_model.zip\" -d \"/content/yolov7/runs/\"\n",
        "drive.flush_and_unmount()\n",
        "clear_output()"
      ],
      "metadata": {
        "id": "W0imTbBLFa1v"
      },
      "execution_count": null,
      "outputs": []
    },
    {
      "cell_type": "code",
      "source": [
        "import shutil,glob\n",
        "shutil.rmtree('/content/yolov7/runs')\n",
        "#shutil.rmtree('/content/yolov7/dataset/train')\n",
        "#shutil.rmtree('/content/RSDD2022/dataset/Data')\n",
        "#shutil.rmtree('/content/RSDD2022/runs')"
      ],
      "metadata": {
        "id": "5zBgjovAMJ2S"
      },
      "execution_count": null,
      "outputs": []
    },
    {
      "cell_type": "code",
      "source": [
        "# code for displaying multiple images in one figure\n",
        "\n",
        "# #import libraries\n",
        "# import cv2\n",
        "# from matplotlib import pyplot as plt\n",
        "\n",
        "# # create figure\n",
        "# fig = plt.figure(figsize=(10, 7))\n",
        "\n",
        "# # setting values to rows and column variables\n",
        "# rows = 2\n",
        "# columns = 3\n",
        "\n",
        "# # reading images\n",
        "# Image1 = cv2.imread('/content/yolov7/dataset/train/images/00001_Crack038.jpg')\n",
        "# Image2 = cv2.imread('/content/yolov7/dataset/train/images/00001_Damage034.jpg')\n",
        "# Image3 = cv2.imread('/content/yolov7/dataset/train/images/00001_Long023.jpg')\n",
        "# Image4 = cv2.imread('/content/yolov7/dataset/train/images/00001_Long039.jpg')\n",
        "# Image5 = cv2.imread('/content/yolov7/dataset/train/images/IRSDD_23042022_114.jpg')\n",
        "# Image6 = cv2.imread('/content/yolov7/dataset/train/images/00001_Damage019.jpg')\n",
        "\n",
        "\n",
        "# # Adds a subplot at the 1st position\n",
        "# fig.add_subplot(rows, columns, 1)\n",
        "\n",
        "# # showing image\n",
        "# plt.imshow(Image1)\n",
        "# plt.axis('off')\n",
        "# plt.title(\"First\")\n",
        "\n",
        "# # Adds a subplot at the 2nd position\n",
        "# fig.add_subplot(rows, columns, 2)\n",
        "\n",
        "# # showing image\n",
        "# plt.imshow(Image2)\n",
        "# plt.axis('off')\n",
        "# plt.title(\"Second\")\n",
        "\n",
        "# # Adds a subplot at the 3rd position\n",
        "# fig.add_subplot(rows, columns, 3)\n",
        "\n",
        "# # showing image\n",
        "# plt.imshow(Image3)\n",
        "# plt.axis('off')\n",
        "# plt.title(\"Third\")\n",
        "\n",
        "# # Adds a subplot at the 4th position\n",
        "# fig.add_subplot(rows, columns, 4)\n",
        "\n",
        "# # showing image\n",
        "# plt.imshow(Image4)\n",
        "# plt.axis('off')\n",
        "# plt.title(\"Fourth\")\n",
        "# fig.add_subplot(rows, columns, 5)\n",
        "# # showing image\n",
        "# plt.imshow(Image5)\n",
        "# plt.axis('off')\n",
        "# plt.title(\"Fifth\")\n",
        "# fig.add_subplot(rows, columns, 6)\n",
        "# # showing image\n",
        "# plt.imshow(Image6)\n",
        "# plt.axis('off')\n",
        "# plt.title(\"Sixth\")"
      ],
      "metadata": {
        "id": "gEwtwn45bLdg"
      },
      "execution_count": null,
      "outputs": []
    },
    {
      "cell_type": "code",
      "source": [
        "from google.colab import drive\n",
        "drive.mount('/content/drive')"
      ],
      "metadata": {
        "id": "sEmY9x4JEX-s",
        "colab": {
          "base_uri": "https://localhost:8080/"
        },
        "outputId": "a22a2155-56de-4c37-9c7b-bc026d8124ed"
      },
      "execution_count": null,
      "outputs": [
        {
          "output_type": "stream",
          "name": "stdout",
          "text": [
            "Drive already mounted at /content/drive; to attempt to forcibly remount, call drive.mount(\"/content/drive\", force_remount=True).\n"
          ]
        }
      ]
    },
    {
      "cell_type": "markdown",
      "metadata": {
        "id": "4jn4kCtgKiGO"
      },
      "source": [
        "# OPTIONAL: Deployment files moves to local disck\n",
        "To deploy, you'll need to export your weights and save them to use later."
      ]
    },
    {
      "cell_type": "code",
      "source": [
        "# ''' \n",
        "# Trained folder zip it and download\n",
        "# '''\n",
        "# from google.colab import files\n",
        "# %cd /content\n",
        "# #!zip -r /content/RSDD2023_14.zip /content/yolov7/runs/train/RSDD2023_15/weights/best.pt\n",
        "# !files.download('/content/RSDD2023_14.zip')"
      ],
      "metadata": {
        "id": "mWs8su89vkxl"
      },
      "execution_count": null,
      "outputs": []
    }
  ],
  "metadata": {
    "accelerator": "GPU",
    "colab": {
      "provenance": []
    },
    "kernelspec": {
      "display_name": "Python 3",
      "name": "python3"
    }
  },
  "nbformat": 4,
  "nbformat_minor": 0
}