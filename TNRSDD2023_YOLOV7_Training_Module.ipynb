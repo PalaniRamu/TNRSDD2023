{
  "cells": [
    {
      "cell_type": "markdown",
      "metadata": {
        "id": "GD9gUQpaBxNa"
      },
      "source": [
        "# How to Train YOLOv7 on a Custom Dataset\n",
        "\n",
        "This tutorial is based on the [YOLOv7 repository](https://github.com/WongKinYiu/yolov7) by WongKinYiu. This notebook shows training on **your own custom objects**. Many thanks to WongKinYiu and AlexeyAB for putting this repository together.\n",
        "\n",
        "### **Steps Covered in this Tutorial**\n",
        "To train our detector we take the following steps:\n",
        "* Install YOLOv7 dependencies\n",
        "* Load Trained model\n",
        "* To detect Real video"
      ]
    },
    {
      "cell_type": "markdown",
      "metadata": {
        "id": "7mGmQbAO5pQb"
      },
      "source": [
        "# Step 1 - Install Dependencies Library of Yolov7 \n",
        "\n",
        "_(Remember to choose GPU in Runtime if not already selected. Runtime --> Change Runtime Type --> Hardware accelerator --> GPU)_\n"
      ]
    },
    {
      "cell_type": "code",
      "execution_count": null,
      "metadata": {
        "id": "nD-uPyQ_2jiN",
        "colab": {
          "base_uri": "https://localhost:8080/"
        },
        "outputId": "27597879-4e82-4f3f-91c2-290eeb39c6df"
      },
      "outputs": [
        {
          "output_type": "stream",
          "name": "stdout",
          "text": [
            "Setup completed\n"
          ]
        }
      ],
      "source": [
        "\n",
        "# Download YOLOv7 repository and install requirements\n",
        "!git clone https://github.com/WongKinYiu/yolov7\n",
        "%cd yolov7\n",
        "!pip install -r requirements.txt\n",
        "#!pip install wandb\n",
        "!pip install torchvision==0.11.3+cu111 -f https://download.pytorch.org/whl/cu111/torch_stable.html\n",
        "import torch\n",
        "from IPython.display import Image, clear_output  # to display images\n",
        "#from utils.google_utils import gdrive_download  # to download models/datasets\n",
        "!wget https://github.com/WongKinYiu/yolov7/releases/download/v0.1/yolov7_training.pt \n",
        "clear_output()\n",
        "print('Setup completed')"
      ]
    },
    {
      "cell_type": "markdown",
      "source": [
        "#step 2 - Training data access from shared file"
      ],
      "metadata": {
        "id": "-6qMkgN5ccqh"
      }
    },
    {
      "cell_type": "code",
      "source": [
        "# Commented out IPython magic to ensure Python compatibility.\n",
        "from google.colab import drive\n",
        "# %cd /content/RSDD2022\n",
        "!mkdir /content/yolov7/runs\n",
        "!mkdir /content/yolov7/runs/exp\n",
        "drive.mount('/content/drive')\n",
        "#!cp -av \"/content/drive/MyDrive/DEVRDD/GRSDD2022/data.yaml\" -d \"/content/yolov7/\"\n",
        "#!unzip -u \"/content/drive/MyDrive/DEVRDD/GRSDD2022/Datasources/AdditionalSource.zip\" -d \"/content/RSDD2022/dataset/\"\n",
        "#!unzip -u \"/content/drive/MyDrive/DEVRDD/TNRSDD2023.zip\" -d \"/content/yolov7/dataset/Data\"\n",
        "!cp -av \"/content/drive/MyDrive/DEVRDD/TNRSDD2023/ImageAugmentRSDD2023_trained_model.pt\" -d \"/content/yolov7/runs/exp\"\n",
        "!unzip -u \"/content/drive/MyDrive/DEVRDD/TNRSDD2023/TNRSDD2023_model.zip\" -d \"/content/yolov7/runs/exp\"\n",
        "\n",
        "drive.flush_and_unmount()\n",
        "clear_output()"
      ],
      "metadata": {
        "id": "OVY37RdkFNVT"
      },
      "execution_count": null,
      "outputs": []
    },
    {
      "cell_type": "markdown",
      "source": [
        "# step 3 - create folder structure, Parameter changes\n",
        "## the dataset slicing 80% for train and 20% for test"
      ],
      "metadata": {
        "id": "ZxiIX1VhcwpF"
      }
    },
    {
      "cell_type": "code",
      "source": [
        "\"\"\"\n",
        "## Split the Data's 80, 20  -- Training\n",
        "\"\"\"\n",
        "# Commented out IPython magic to ensure Python compatibility.\n",
        "import os,glob\n",
        "%cd /content/yolov7/dataset\n",
        "#!mkdir dataset\n",
        "!mkdir train\n",
        "!mkdir test\n",
        "!mkdir train/images\n",
        "!mkdir train/labels\n",
        "!mkdir test/images\n",
        "!mkdir test/labels\n",
        "\n",
        "\n",
        "base_path = '/content/yolov7/dataset/Data'\n",
        "\n",
        "No_of_files = len(glob.glob(base_path+'/*.txt'))\n",
        "\n",
        "# print('total Number of files :',No_of_files)\n",
        "# print('80% percent :',round((No_of_files/100)*97))\n",
        "# print('20% percent :',round((No_of_files/100)*3))\n",
        "\n",
        "part1=round((No_of_files/100)*80)\n",
        "part2=round((No_of_files/100)*20)\n",
        "#part3=round((No_of_files/100)*5)\n",
        "\n",
        "\n",
        "fcntr=1\n",
        "file_list = [filename for filename in glob.glob(base_path+'/*.txt')]\n",
        "for file in file_list:\n",
        "  if len(glob.glob(file.replace('.txt','*'))) <2 :\n",
        "    print ('Jpeg file not found',file)\n",
        "    break\n",
        "  if fcntr<= part1 :   #  80% files copied in Train files\n",
        "    try:\n",
        "      #shutil.copyfile( file, '/content/RSDD2022/dataset/train/labels')\n",
        "      os.system('cp '+file+ ' /content/yolov7/dataset/train/labels/')\n",
        "      file=file.replace('.txt','.jpg')\n",
        "      #shutil.copyfile( file, '/content/RSDD2022/dataset/train/images' )\n",
        "      os.system('cp '+file+ ' /content/yolov7/dataset/train/images/')\n",
        "    except IOError:\n",
        "      print('file not found')\n",
        "  else:\n",
        "    try:\n",
        "      os.system('cp '+file+ ' /conten/yolov7/dataset/test/labels/')\n",
        "      file=file.replace('.txt','.jpg')\n",
        "      os.system('cp '+file+ ' /content/yolov7/dataset/test/images/')\n",
        "    except IOError:\n",
        "      print('file not found  ' + file)\n",
        "  fcntr=fcntr+1\n",
        "\n",
        "print('Total No. of Train Image: ',len(glob.glob('/content/yolov7/dataset/train/images/*.jpg')))\n",
        "print('Total No. of Test Image: ',len(glob.glob('/content/yolov7/dataset/test/images/*.jpg')))\n"
      ],
      "metadata": {
        "id": "RJyiIUeHIzL6",
        "outputId": "7b1525db-3350-4ea0-f892-10525d1194f7",
        "colab": {
          "base_uri": "https://localhost:8080/"
        }
      },
      "execution_count": null,
      "outputs": [
        {
          "output_type": "stream",
          "name": "stdout",
          "text": [
            "/content/yolov7/dataset\n",
            "Total No. of Train Image:  1507\n",
            "Total No. of Test Image:  377\n"
          ]
        }
      ]
    },
    {
      "cell_type": "markdown",
      "source": [
        "## Step 4 - Optional to draw graph for input data"
      ],
      "metadata": {
        "id": "NoOMcK7Fde25"
      }
    },
    {
      "cell_type": "code",
      "source": [
        "\"\"\"## Model Training -- Training\"\"\"\n",
        "\n",
        "# Commented out IPython magic to ensure Python compatibility.\n",
        "import collections\n",
        "import os\n",
        "import glob\n",
        "import matplotlib.pyplot as plt\n",
        "import matplotlib as matplot\n",
        "import seaborn as sns\n",
        "\n",
        "\n",
        "base_path = '/content/yolov7/dataset/Data'\n",
        "damageTypes=['D00','D10','D20','D40']\n",
        "\n",
        "# govs corresponds to municipality name.\n",
        "#govs = ['Sunny', 'Raining', 'Winter', 'Darkness']\n",
        "\n",
        "# the number of each class labels.\n",
        "#count_dict = collections.Counter(cls_names)\n",
        "cls_count = []\n",
        "total_images=0\n",
        "cl01=cl02=cl03=cl04=0\n",
        "file_list = [filename for filename in glob.glob(base_path+'/*.txt')]\n",
        "for file in file_list:\n",
        "  total_images = total_images + 1\n",
        "  f = open(file,'r')\n",
        "  data = f.read()\n",
        "  cl01= cl01+data.count(\"0 \")\n",
        "  cl02= cl02+data.count(\"1 \")\n",
        "  cl03= cl03+data.count(\"2 \")\n",
        "  cl04= cl04+data.count(\"3 \")\n",
        "  f.close()\n",
        "  \n",
        "  cls_count= [cl01,cl02,cl03,cl04]\n",
        "\n",
        "# function to add value labels\n",
        "def addlabels(x,y):\n",
        "    for i in range(len(x)):\n",
        "        plt.text(i, y[i], y[i], ha = 'center')\n",
        "  \n",
        "if __name__ == '__main__':\n",
        "    \n",
        "    # creating data on which bar chart will be plot\n",
        "    x = damageTypes\n",
        "    y = cls_count\n",
        "      \n",
        "    # setting figure size by using figure() function \n",
        "    plt.figure(figsize = (10, 5))\n",
        "    # making the bar chart on the data\n",
        "    plt.bar(x, y,color=['black', 'red', 'green', 'blue'])\n",
        "    # calling the function to add value labels\n",
        "    addlabels(x, y)\n",
        "      \n",
        "    # giving title to the plot\n",
        "    plt.title(\"Road Surface Damage Classes - Training Data\")\n",
        "      \n",
        "    # giving X and Y labels\n",
        "    plt.xlabel(\"Object Class\")\n",
        "    plt.ylabel(\"Class counts - Training\")\n",
        "      \n",
        "    # visualizing the plot\n",
        "    plt.show()"
      ],
      "metadata": {
        "id": "KqiB_TXDTSyk"
      },
      "execution_count": null,
      "outputs": []
    },
    {
      "cell_type": "markdown",
      "source": [
        "# Step 5 - to create training model "
      ],
      "metadata": {
        "id": "n0_tUVRkd0pI"
      }
    },
    {
      "cell_type": "code",
      "source": [
        "# %cd /content/yolov7\n",
        "# !python train.py  --weights /content/yolov7/yolov7_training.pt --data \"data/custom.yaml\" --workers 4 --batch-size 8 --img 416 --cfg cfg/training/yolov7x.yaml --name RSDD2023_Jan_Normal --hyp data/hyp.scratch.p5.yaml --epochs 50\n",
        "\n",
        "# #!python train.py --workers 8 --device 0 --batch-size 8 --data data/custom.yaml --img 1280 720 --cfg cfg/training/yolov7.yaml --weights yolov7_training.pt --name TNRSDD2023 --hyp data/hyp.scratch.custom.yaml --epochs 50\n",
        "\n"
      ],
      "metadata": {
        "id": "xB8w_8oxgF36"
      },
      "execution_count": null,
      "outputs": []
    },
    {
      "cell_type": "markdown",
      "metadata": {
        "id": "0W0MpUaTCJro"
      },
      "source": [
        "\n",
        "# Step Real time Evaluation\n",
        "\n",
        "We can evaluate the performance of our custom training using the provided evalution script."
      ]
    },
    {
      "cell_type": "code",
      "source": [
        "''' Training model download from GDrive'''\n",
        "\n",
        "from google.colab import drive\n",
        "%cd /content/yolov7\n",
        "# !mkdir /content/yolov7/runs\n",
        "# !mkdir /content/yolov7/runs/exp\n",
        "drive.mount('/content/drive')\n",
        "!cp -av \"/content/drive/MyDrive/DEVRDD/GRSDD2022/data.yaml\" -d \"/content/yolov7/\"\n",
        "#!unzip -u \"/content/drive/MyDrive/DEVRDD/GRSDD2022/Datasources/AdditionalSource.zip\" -d \"/content/RSDD2022/dataset/\"\n",
        "#!unzip -u \"/content/drive/MyDrive/DEVRDD/TNRSDD2023.zip\" -d \"/content/yolov7/dataset/Data\"\n",
        "!unzip -u \"/content/drive/MyDrive/DEVRDD/TNRSDD2023/TNRSDD2023_model.zip\" -d \"/content/yolov7/runs/\"\n",
        "drive.flush_and_unmount()\n",
        "clear_output()"
      ],
      "metadata": {
        "id": "W0imTbBLFa1v"
      },
      "execution_count": null,
      "outputs": []
    },
    {
      "cell_type": "code",
      "source": [
        "import shutil,glob\n",
        "shutil.rmtree('/content/yolov7/runs')\n",
        "#shutil.rmtree('/content/yolov7/dataset/train')\n",
        "#shutil.rmtree('/content/RSDD2022/dataset/Data')\n",
        "#shutil.rmtree('/content/RSDD2022/runs')"
      ],
      "metadata": {
        "id": "5zBgjovAMJ2S"
      },
      "execution_count": null,
      "outputs": []
    },
    {
      "cell_type": "code",
      "source": [
        "# code for displaying multiple images in one figure\n",
        "\n",
        "# #import libraries\n",
        "# import cv2\n",
        "# from matplotlib import pyplot as plt\n",
        "\n",
        "# # create figure\n",
        "# fig = plt.figure(figsize=(10, 7))\n",
        "\n",
        "# # setting values to rows and column variables\n",
        "# rows = 2\n",
        "# columns = 3\n",
        "\n",
        "# # reading images\n",
        "# Image1 = cv2.imread('/content/yolov7/dataset/train/images/00001_Crack038.jpg')\n",
        "# Image2 = cv2.imread('/content/yolov7/dataset/train/images/00001_Damage034.jpg')\n",
        "# Image3 = cv2.imread('/content/yolov7/dataset/train/images/00001_Long023.jpg')\n",
        "# Image4 = cv2.imread('/content/yolov7/dataset/train/images/00001_Long039.jpg')\n",
        "# Image5 = cv2.imread('/content/yolov7/dataset/train/images/IRSDD_23042022_114.jpg')\n",
        "# Image6 = cv2.imread('/content/yolov7/dataset/train/images/00001_Damage019.jpg')\n",
        "\n",
        "\n",
        "# # Adds a subplot at the 1st position\n",
        "# fig.add_subplot(rows, columns, 1)\n",
        "\n",
        "# # showing image\n",
        "# plt.imshow(Image1)\n",
        "# plt.axis('off')\n",
        "# plt.title(\"First\")\n",
        "\n",
        "# # Adds a subplot at the 2nd position\n",
        "# fig.add_subplot(rows, columns, 2)\n",
        "\n",
        "# # showing image\n",
        "# plt.imshow(Image2)\n",
        "# plt.axis('off')\n",
        "# plt.title(\"Second\")\n",
        "\n",
        "# # Adds a subplot at the 3rd position\n",
        "# fig.add_subplot(rows, columns, 3)\n",
        "\n",
        "# # showing image\n",
        "# plt.imshow(Image3)\n",
        "# plt.axis('off')\n",
        "# plt.title(\"Third\")\n",
        "\n",
        "# # Adds a subplot at the 4th position\n",
        "# fig.add_subplot(rows, columns, 4)\n",
        "\n",
        "# # showing image\n",
        "# plt.imshow(Image4)\n",
        "# plt.axis('off')\n",
        "# plt.title(\"Fourth\")\n",
        "# fig.add_subplot(rows, columns, 5)\n",
        "# # showing image\n",
        "# plt.imshow(Image5)\n",
        "# plt.axis('off')\n",
        "# plt.title(\"Fifth\")\n",
        "# fig.add_subplot(rows, columns, 6)\n",
        "# # showing image\n",
        "# plt.imshow(Image6)\n",
        "# plt.axis('off')\n",
        "# plt.title(\"Sixth\")"
      ],
      "metadata": {
        "id": "gEwtwn45bLdg"
      },
      "execution_count": null,
      "outputs": []
    },
    {
      "cell_type": "code",
      "source": [
        "from google.colab import drive\n",
        "drive.mount('/content/drive')"
      ],
      "metadata": {
        "id": "sEmY9x4JEX-s",
        "colab": {
          "base_uri": "https://localhost:8080/"
        },
        "outputId": "a22a2155-56de-4c37-9c7b-bc026d8124ed"
      },
      "execution_count": null,
      "outputs": [
        {
          "output_type": "stream",
          "name": "stdout",
          "text": [
            "Drive already mounted at /content/drive; to attempt to forcibly remount, call drive.mount(\"/content/drive\", force_remount=True).\n"
          ]
        }
      ]
    },
    {
      "cell_type": "markdown",
      "metadata": {
        "id": "4jn4kCtgKiGO"
      },
      "source": [
        "# OPTIONAL: Deployment files moves to local disck\n",
        "To deploy, you'll need to export your weights and save them to use later."
      ]
    },
    {
      "cell_type": "code",
      "source": [
        "# ''' \n",
        "# Trained folder zip it and download\n",
        "# '''\n",
        "# from google.colab import files\n",
        "# %cd /content\n",
        "# #!zip -r /content/RSDD2023_14.zip /content/yolov7/runs/train/RSDD2023_15/weights/best.pt\n",
        "# !files.download('/content/RSDD2023_14.zip')"
      ],
      "metadata": {
        "id": "mWs8su89vkxl"
      },
      "execution_count": null,
      "outputs": []
    },
    {
      "cell_type": "code",
      "execution_count": null,
      "metadata": {
        "id": "cEl1NVE3LSD_"
      },
      "outputs": [],
      "source": [
        "# # example upload: if prediction is below a given confidence threshold, upload it \n",
        "\n",
        "# confidence_interval = [10,70]                                   # [lower_bound_percent, upper_bound_percent]\n",
        "\n",
        "# for prediction in predictions:                                  # predictions list to loop through\n",
        "#   if(prediction['confidence'] * 100 >= confidence_interval[0] and \n",
        "#           prediction['confidence'] * 100 <= confidence_interval[1]):\n",
        "        \n",
        "#           # upload on success!\n",
        "#           print(' >> image uploaded!')\n",
        "#           upload_project.upload(image, num_retry_uploads=3)     # upload image in question"
      ]
    },
    {
      "cell_type": "markdown",
      "metadata": {
        "id": "LVpCFeU-K4gb"
      },
      "source": [
        "# Next steps\n",
        "\n",
        "Congratulations, you've trained a custom YOLOv7 model! Next, start thinking about deploying and [building an MLOps pipeline](https://docs.roboflow.com) so your model gets better the more data it sees in the wild."
      ]
    }
  ],
  "metadata": {
    "accelerator": "GPU",
    "colab": {
      "provenance": [],
      "collapsed_sections": [
        "LVpCFeU-K4gb"
      ]
    },
    "kernelspec": {
      "display_name": "Python 3",
      "name": "python3"
    }
  },
  "nbformat": 4,
  "nbformat_minor": 0
}